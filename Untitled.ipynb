{
 "cells": [
  {
   "cell_type": "markdown",
   "id": "28a89da1",
   "metadata": {},
   "source": [
    "import sys\n",
    "print(\"This is the name of the script:\",sys.argv[0])\n",
    "print(\"The number of arguments is: \",len(sys.argv))\n",
    "print(\"The arguments are:\",str(sys.argv))\n",
    "print(\"The first argument is \",sys.argv[1])"
   ]
  },
  {
   "cell_type": "code",
   "execution_count": 11,
   "id": "95167422",
   "metadata": {},
   "outputs": [
    {
     "name": "stdout",
     "output_type": "stream",
     "text": [
      "The first argument is  hello\n"
     ]
    }
   ],
   "source": [
    "print(\"The first argument is \", \"hello\")"
   ]
  },
  {
   "cell_type": "code",
   "execution_count": 12,
   "id": "124cc432",
   "metadata": {},
   "outputs": [
    {
     "name": "stdout",
     "output_type": "stream",
     "text": [
      "The first argument is  -f\n"
     ]
    }
   ],
   "source": [
    "print(\"The first argument is \",sys.argv[1])"
   ]
  },
  {
   "cell_type": "code",
   "execution_count": 13,
   "id": "1720eb20",
   "metadata": {},
   "outputs": [
    {
     "name": "stdout",
     "output_type": "stream",
     "text": [
      "The number of arguments is: 3\n",
      "The arguments are: ['/Users/mwamuzishadrick/opt/anaconda3/lib/python3.9/site-packages/ipykernel_launcher.py', '-f', '/Users/mwamuzishadrick/Library/Jupyter/runtime/kernel-01823d48-02a9-4ad6-b39e-501f09e475b0.json']\n",
      "The first argument is: /Users/mwamuzishadrick/opt/anaconda3/lib/python3.9/site-packages/ipykernel_launcher.py\n"
     ]
    }
   ],
   "source": [
    "import sys\n",
    "\n",
    "# Define a function that takes a string as input\n",
    "def print_args(args):\n",
    "    print(\"The number of arguments is:\", len(args))\n",
    "    print(\"The arguments are:\", str(args))\n",
    "    print(\"The first argument is:\", args[0])\n",
    "\n",
    "# Call the function with command line arguments\n",
    "print_args(sys.argv)\n"
   ]
  },
  {
   "cell_type": "code",
   "execution_count": 14,
   "id": "498cd129",
   "metadata": {},
   "outputs": [
    {
     "name": "stdout",
     "output_type": "stream",
     "text": [
      "The number of arguments is: 2\n",
      "The arguments are: ['-f', '/Users/mwamuzishadrick/Library/Jupyter/runtime/kernel-01823d48-02a9-4ad6-b39e-501f09e475b0.json']\n",
      "The first argument is: -f\n"
     ]
    }
   ],
   "source": [
    "import sys\n",
    "\n",
    "# Check if any arguments were passed\n",
    "if len(sys.argv) > 1:\n",
    "    # Print the number of arguments\n",
    "    print(\"The number of arguments is:\", len(sys.argv) - 1)\n",
    "\n",
    "    # Print the arguments\n",
    "    print(\"The arguments are:\", str(sys.argv[1:]))\n",
    "\n",
    "    # Print the first argument\n",
    "    print(\"The first argument is:\", sys.argv[1])\n",
    "else:\n",
    "    print(\"No arguments were passed.\")"
   ]
  },
  {
   "cell_type": "code",
   "execution_count": 15,
   "id": "6dcfb757",
   "metadata": {},
   "outputs": [
    {
     "name": "stdout",
     "output_type": "stream",
     "text": [
      "Error: -f does not exist\n"
     ]
    },
    {
     "ename": "SystemExit",
     "evalue": "1",
     "output_type": "error",
     "traceback": [
      "An exception has occurred, use %tb to see the full traceback.\n",
      "\u001b[0;31mSystemExit\u001b[0m\u001b[0;31m:\u001b[0m 1\n"
     ]
    }
   ],
   "source": [
    "import os\n",
    "import sys\n",
    "\n",
    "# Get the filename from the command-line argument\n",
    "if len(sys.argv) < 2:\n",
    "    print(\"Usage: python script.py <filename>\")\n",
    "    sys.exit(1)\n",
    "\n",
    "filename = sys.argv[1]\n",
    "\n",
    "# Check if the file exists\n",
    "if not os.path.isfile(filename):\n",
    "    print(f\"Error: {filename} does not exist\")\n",
    "    sys.exit(1)\n",
    "\n",
    "# Check if the user has read permissions for the file\n",
    "if not os.access(filename, os.R_OK):\n",
    "    print(f\"Error: {filename} is not readable\")\n",
    "    sys.exit(1)\n",
    "\n",
    "# If we got here, the file exists and is readable\n",
    "print(f\"{filename} exists and is readable\")"
   ]
  },
  {
   "cell_type": "code",
   "execution_count": null,
   "id": "fd5653da",
   "metadata": {},
   "outputs": [],
   "source": []
  }
 ],
 "metadata": {
  "kernelspec": {
   "display_name": "Python 3 (ipykernel)",
   "language": "python",
   "name": "python3"
  },
  "language_info": {
   "codemirror_mode": {
    "name": "ipython",
    "version": 3
   },
   "file_extension": ".py",
   "mimetype": "text/x-python",
   "name": "python",
   "nbconvert_exporter": "python",
   "pygments_lexer": "ipython3",
   "version": "3.9.13"
  }
 },
 "nbformat": 4,
 "nbformat_minor": 5
}
